{
 "cells": [
  {
   "metadata": {},
   "cell_type": "markdown",
   "source": "# data profiling (살펴보기)",
   "id": "f37caea99ab87d25"
  },
  {
   "metadata": {},
   "cell_type": "code",
   "outputs": [],
   "execution_count": null,
   "source": "",
   "id": "bb85af1943737416"
  }
 ],
 "metadata": {},
 "nbformat": 5,
 "nbformat_minor": 9
}

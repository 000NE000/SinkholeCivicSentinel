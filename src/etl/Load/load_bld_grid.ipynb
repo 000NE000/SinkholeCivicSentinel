{
 "cells": [
  {
   "metadata": {
    "ExecuteTime": {
     "end_time": "2025-05-10T10:48:02.035905Z",
     "start_time": "2025-05-10T10:48:02.003887Z"
    }
   },
   "cell_type": "code",
   "source": [
    "import os\n",
    "import geopandas as gpd\n",
    "import folium\n",
    "from sqlalchemy import create_engine\n",
    "\n",
    "# 1) DB 연결 & GeoDataFrame 로드\n",
    "db_url = os.getenv(\"DB_DSN\")\n",
    "engine = create_engine(db_url)\n",
    "gdf = gpd.read_postgis(\n",
    "    \"SELECT grid_id, year, area, geom FROM bld_in_grid\",\n",
    "    con=engine,\n",
    "    geom_col=\"geom\",\n",
    "    crs=\"EPSG:5179\"\n",
    ")\n",
    "# 2) WGS84 위경도로 변환 (Folium이 WGS84 기준)\n",
    "gdf_wgs = gdf.to_crs(epsg=4326)\n",
    "\n",
    "# 3) Folium 지도 생성 (서울시청 중심)\n",
    "m = folium.Map(\n",
    "    location=[37.5665, 126.9780],\n",
    "    zoom_start=11,\n",
    "    tiles=\"CartoDB.Positron\"\n",
    ")\n",
    "\n",
    "# 4) GeoJson 레이어 추가 — 여기서는 연도(year)에 따라 색상을 입히는 예시\n",
    "folium.Choropleth(\n",
    "    geo_data=gdf_wgs,\n",
    "    data=gdf_wgs,\n",
    "    columns=[\"grid_id\", \"year\"],\n",
    "    key_on=\"feature.properties.grid_id\",\n",
    "    fill_color=\"YlOrRd\",\n",
    "    fill_opacity=0.7,\n",
    "    line_opacity=0.2,\n",
    "    legend_name=\"건물 준공연도\"\n",
    ").add_to(m)\n",
    "\n",
    "# 5) 팝업/툴팁 추가 (격자 클릭 시 상세 정보)\n",
    "folium.GeoJson(\n",
    "    gdf_wgs,\n",
    "    style_function=lambda feat: {\n",
    "        \"color\": \"gray\",\n",
    "        \"weight\": 0.5,\n",
    "        \"fillOpacity\": 0\n",
    "    },\n",
    "    tooltip=folium.GeoJsonTooltip(\n",
    "        fields=[\"grid_id\", \"year\", \"area\"],\n",
    "        aliases=[\"Grid ID\", \"준공연도\", \"면적(㎡)\"],\n",
    "        localize=True\n",
    "    )\n",
    ").add_to(m)\n",
    "\n",
    "# 6) 레이어 컨트롤\n",
    "folium.LayerControl().add_to(m)\n",
    "\n",
    "# 7) 지도 출력\n",
    "m"
   ],
   "id": "ddde59761be61d1",
   "outputs": [
    {
     "ename": "ArgumentError",
     "evalue": "Expected string or URL object, got None",
     "output_type": "error",
     "traceback": [
      "\u001B[0;31m---------------------------------------------------------------------------\u001B[0m",
      "\u001B[0;31mArgumentError\u001B[0m                             Traceback (most recent call last)",
      "Cell \u001B[0;32mIn[4], line 8\u001B[0m\n\u001B[1;32m      6\u001B[0m \u001B[38;5;66;03m# 1) DB 연결 & GeoDataFrame 로드\u001B[39;00m\n\u001B[1;32m      7\u001B[0m db_url \u001B[38;5;241m=\u001B[39m os\u001B[38;5;241m.\u001B[39mgetenv(\u001B[38;5;124m\"\u001B[39m\u001B[38;5;124mDB_DSN\u001B[39m\u001B[38;5;124m\"\u001B[39m)\n\u001B[0;32m----> 8\u001B[0m engine \u001B[38;5;241m=\u001B[39m \u001B[43mcreate_engine\u001B[49m\u001B[43m(\u001B[49m\u001B[43mdb_url\u001B[49m\u001B[43m)\u001B[49m\n\u001B[1;32m      9\u001B[0m gdf \u001B[38;5;241m=\u001B[39m gpd\u001B[38;5;241m.\u001B[39mread_postgis(\n\u001B[1;32m     10\u001B[0m     \u001B[38;5;124m\"\u001B[39m\u001B[38;5;124mSELECT grid_id, year, area, geom FROM bld_in_grid\u001B[39m\u001B[38;5;124m\"\u001B[39m,\n\u001B[1;32m     11\u001B[0m     con\u001B[38;5;241m=\u001B[39mengine,\n\u001B[1;32m     12\u001B[0m     geom_col\u001B[38;5;241m=\u001B[39m\u001B[38;5;124m\"\u001B[39m\u001B[38;5;124mgeom\u001B[39m\u001B[38;5;124m\"\u001B[39m,\n\u001B[1;32m     13\u001B[0m     crs\u001B[38;5;241m=\u001B[39m\u001B[38;5;124m\"\u001B[39m\u001B[38;5;124mEPSG:5179\u001B[39m\u001B[38;5;124m\"\u001B[39m\n\u001B[1;32m     14\u001B[0m )\n\u001B[1;32m     15\u001B[0m \u001B[38;5;66;03m# 2) WGS84 위경도로 변환 (Folium이 WGS84 기준)\u001B[39;00m\n",
      "File \u001B[0;32m<string>:2\u001B[0m, in \u001B[0;36mcreate_engine\u001B[0;34m(url, **kwargs)\u001B[0m\n",
      "File \u001B[0;32m/opt/anaconda3/envs/sinkholecivicsentinel_env/lib/python3.10/site-packages/sqlalchemy/util/deprecations.py:281\u001B[0m, in \u001B[0;36mdeprecated_params.<locals>.decorate.<locals>.warned\u001B[0;34m(fn, *args, **kwargs)\u001B[0m\n\u001B[1;32m    274\u001B[0m     \u001B[38;5;28;01mif\u001B[39;00m m \u001B[38;5;129;01min\u001B[39;00m kwargs:\n\u001B[1;32m    275\u001B[0m         _warn_with_version(\n\u001B[1;32m    276\u001B[0m             messages[m],\n\u001B[1;32m    277\u001B[0m             versions[m],\n\u001B[1;32m    278\u001B[0m             version_warnings[m],\n\u001B[1;32m    279\u001B[0m             stacklevel\u001B[38;5;241m=\u001B[39m\u001B[38;5;241m3\u001B[39m,\n\u001B[1;32m    280\u001B[0m         )\n\u001B[0;32m--> 281\u001B[0m \u001B[38;5;28;01mreturn\u001B[39;00m \u001B[43mfn\u001B[49m\u001B[43m(\u001B[49m\u001B[38;5;241;43m*\u001B[39;49m\u001B[43margs\u001B[49m\u001B[43m,\u001B[49m\u001B[43m \u001B[49m\u001B[38;5;241;43m*\u001B[39;49m\u001B[38;5;241;43m*\u001B[39;49m\u001B[43mkwargs\u001B[49m\u001B[43m)\u001B[49m\n",
      "File \u001B[0;32m/opt/anaconda3/envs/sinkholecivicsentinel_env/lib/python3.10/site-packages/sqlalchemy/engine/create.py:549\u001B[0m, in \u001B[0;36mcreate_engine\u001B[0;34m(url, **kwargs)\u001B[0m\n\u001B[1;32m    546\u001B[0m kwargs\u001B[38;5;241m.\u001B[39mpop(\u001B[38;5;124m\"\u001B[39m\u001B[38;5;124mempty_in_strategy\u001B[39m\u001B[38;5;124m\"\u001B[39m, \u001B[38;5;28;01mNone\u001B[39;00m)\n\u001B[1;32m    548\u001B[0m \u001B[38;5;66;03m# create url.URL object\u001B[39;00m\n\u001B[0;32m--> 549\u001B[0m u \u001B[38;5;241m=\u001B[39m \u001B[43m_url\u001B[49m\u001B[38;5;241;43m.\u001B[39;49m\u001B[43mmake_url\u001B[49m\u001B[43m(\u001B[49m\u001B[43murl\u001B[49m\u001B[43m)\u001B[49m\n\u001B[1;32m    551\u001B[0m u, plugins, kwargs \u001B[38;5;241m=\u001B[39m u\u001B[38;5;241m.\u001B[39m_instantiate_plugins(kwargs)\n\u001B[1;32m    553\u001B[0m entrypoint \u001B[38;5;241m=\u001B[39m u\u001B[38;5;241m.\u001B[39m_get_entrypoint()\n",
      "File \u001B[0;32m/opt/anaconda3/envs/sinkholecivicsentinel_env/lib/python3.10/site-packages/sqlalchemy/engine/url.py:860\u001B[0m, in \u001B[0;36mmake_url\u001B[0;34m(name_or_url)\u001B[0m\n\u001B[1;32m    856\u001B[0m     \u001B[38;5;28;01mreturn\u001B[39;00m _parse_url(name_or_url)\n\u001B[1;32m    857\u001B[0m \u001B[38;5;28;01melif\u001B[39;00m \u001B[38;5;129;01mnot\u001B[39;00m \u001B[38;5;28misinstance\u001B[39m(name_or_url, URL) \u001B[38;5;129;01mand\u001B[39;00m \u001B[38;5;129;01mnot\u001B[39;00m \u001B[38;5;28mhasattr\u001B[39m(\n\u001B[1;32m    858\u001B[0m     name_or_url, \u001B[38;5;124m\"\u001B[39m\u001B[38;5;124m_sqla_is_testing_if_this_is_a_mock_object\u001B[39m\u001B[38;5;124m\"\u001B[39m\n\u001B[1;32m    859\u001B[0m ):\n\u001B[0;32m--> 860\u001B[0m     \u001B[38;5;28;01mraise\u001B[39;00m exc\u001B[38;5;241m.\u001B[39mArgumentError(\n\u001B[1;32m    861\u001B[0m         \u001B[38;5;124mf\u001B[39m\u001B[38;5;124m\"\u001B[39m\u001B[38;5;124mExpected string or URL object, got \u001B[39m\u001B[38;5;132;01m{\u001B[39;00mname_or_url\u001B[38;5;132;01m!r}\u001B[39;00m\u001B[38;5;124m\"\u001B[39m\n\u001B[1;32m    862\u001B[0m     )\n\u001B[1;32m    863\u001B[0m \u001B[38;5;28;01melse\u001B[39;00m:\n\u001B[1;32m    864\u001B[0m     \u001B[38;5;28;01mreturn\u001B[39;00m name_or_url\n",
      "\u001B[0;31mArgumentError\u001B[0m: Expected string or URL object, got None"
     ]
    }
   ],
   "execution_count": 4
  }
 ],
 "metadata": {
  "kernelspec": {
   "name": "python3",
   "language": "python",
   "display_name": "Python 3 (ipykernel)"
  }
 },
 "nbformat": 5,
 "nbformat_minor": 9
}
